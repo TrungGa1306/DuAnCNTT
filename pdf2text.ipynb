{
 "cells": [
  {
   "cell_type": "markdown",
   "metadata": {},
   "source": [
    "<p>\n",
    "    Sử dụng thư viện pytesseract cho OCR\n",
    "</p>\n",
    "!pip install pytesseract"
   ]
  },
  {
   "cell_type": "code",
   "execution_count": 1,
   "metadata": {},
   "outputs": [],
   "source": [
    "import pytesseract , re , json\n",
    "from pdf2image import convert_from_path\n",
    "from pytesseract import image_to_string"
   ]
  },
  {
   "cell_type": "markdown",
   "metadata": {},
   "source": [
    "# 1. Sử dụng OCR đọc file pdf"
   ]
  },
  {
   "cell_type": "markdown",
   "metadata": {},
   "source": [
    "- tesseract : https://github.com/UB-Mannheim/tesseract/wiki\n",
    "- poppler version 23.11.0 windows : thêm path ~/poppler-23.11.0/Library/bin vào environments path của hệ thống "
   ]
  },
  {
   "cell_type": "code",
   "execution_count": 2,
   "metadata": {},
   "outputs": [],
   "source": [
    "pytesseract.pytesseract.tesseract_cmd = r\"D:\\tesseract\\tesseract.exe\"\n",
    "tessdata_dir_config = r\"--tessdata-dir 'D:\\tesseract\\tessdata\\vie.traineddata'\""
   ]
  },
  {
   "cell_type": "code",
   "execution_count": 3,
   "metadata": {},
   "outputs": [],
   "source": [
    "def get_text_from_any_pdf(pdf_file):\n",
    "\n",
    "    images = convert_from_path(pdf_file)\n",
    "    data = []\n",
    "    book_len = len(images)\n",
    "    \n",
    "    # Lấy tên sách\n",
    "    book = pdf_file.split(\"/\")[-1].split(\".\")[0]\n",
    "    print(f\"Transform {book} book to text :\")\n",
    "    \n",
    "    #Thực hiện chuyển đổi ảnh sang chữ\n",
    "    for pg, img in enumerate(images):\n",
    "        if pg < 20: continue     # Bỏ 20 trang đầu\n",
    "        if pg <= book_len - 50:        # Bỏ 50 trang cuối\n",
    "            context = image_to_string(img, lang='vie')\n",
    "            cleaned_context = re.sub(r'(\\n+|\\s+)', ' ', context)\n",
    "            cleaned_context = re.sub(r'[!@#$%><+={}\\[\\]]', '', cleaned_context)\n",
    "            obj = {\n",
    "                \"page\": str(pg),\n",
    "                \"book\": book,\n",
    "                \"context\": cleaned_context,      \n",
    "            }\n",
    "            data.append(obj)\n",
    "            if int(pg * 100/(book_len - 70)) % 10 == 0:\n",
    "                print(f\"{int(pg*100/(book_len - 9))}%\", end= \" \")\n",
    "    \n",
    "    return data"
   ]
  },
  {
   "cell_type": "code",
   "execution_count": 4,
   "metadata": {},
   "outputs": [
    {
     "name": "stdout",
     "output_type": "stream",
     "text": [
      "./datasets/lich-su-5-12/Lich-su-5.pdf\n",
      "./datasets/lich-su-5-12/Lich-su-6.pdf\n",
      "./datasets/lich-su-5-12/Lich-su-7.pdf\n",
      "./datasets/lich-su-5-12/Lich-su-8.pdf\n",
      "./datasets/lich-su-5-12/Lich-su-9.pdf\n",
      "./datasets/lich-su-5-12/Lich-su-10.pdf\n",
      "./datasets/lich-su-5-12/Lich-su-11.pdf\n",
      "./datasets/lich-su-5-12/Lich-su-12.pdf\n",
      "./datasets/lich-su-viet-nam/lich-su-viet-nam-tron-bo-15-tap-pdf-tap-1.pdf\n",
      "./datasets/lich-su-viet-nam/lich-su-viet-nam-tron-bo-15-tap-pdf-tap-2.pdf\n",
      "./datasets/lich-su-viet-nam/lich-su-viet-nam-tron-bo-15-tap-pdf-tap-3.pdf\n",
      "./datasets/lich-su-viet-nam/lich-su-viet-nam-tron-bo-15-tap-pdf-tap-4.pdf\n",
      "./datasets/lich-su-viet-nam/lich-su-viet-nam-tron-bo-15-tap-pdf-tap-5.pdf\n",
      "./datasets/lich-su-viet-nam/lich-su-viet-nam-tron-bo-15-tap-pdf-tap-6.pdf\n",
      "./datasets/lich-su-viet-nam/lich-su-viet-nam-tron-bo-15-tap-pdf-tap-7.pdf\n",
      "./datasets/lich-su-viet-nam/lich-su-viet-nam-tron-bo-15-tap-pdf-tap-8.pdf\n",
      "./datasets/lich-su-viet-nam/lich-su-viet-nam-tron-bo-15-tap-pdf-tap-9.pdf\n",
      "./datasets/lich-su-viet-nam/lich-su-viet-nam-tron-bo-15-tap-pdf-tap-10.pdf\n",
      "./datasets/lich-su-viet-nam/lich-su-viet-nam-tron-bo-15-tap-pdf-tap-11.pdf\n",
      "./datasets/lich-su-viet-nam/lich-su-viet-nam-tron-bo-15-tap-pdf-tap-12.pdf\n",
      "./datasets/lich-su-viet-nam/lich-su-viet-nam-tron-bo-15-tap-pdf-tap-13.pdf\n",
      "./datasets/lich-su-viet-nam/lich-su-viet-nam-tron-bo-15-tap-pdf-tap-14.pdf\n",
      "./datasets/lich-su-viet-nam/lich-su-viet-nam-tron-bo-15-tap-pdf-tap-15.pdf\n"
     ]
    }
   ],
   "source": [
    "# Path chứa data\n",
    "\"\"\"\n",
    "    Lịch sử từ lớp 5 đến 12 :\n",
    "        - data path = ./datasets/lich-su-5-12/Lich-su-1.pdf\n",
    "        \n",
    "    Bộ 15 tập về lịch sử việt nam:\n",
    "        - data path = ./datasets/lich-su-viet-nam/lich-su-viet-nam-tron-bo-15-tap-pdf-tap-1.pdf\n",
    "\n",
    "\"\"\"\n",
    "for i in range(5,13):\n",
    "    book = f\"Lich-su-{i}.pdf\"\n",
    "    path_to_pdf = './datasets/lich-su-5-12/' + book\n",
    "    print(path_to_pdf)\n",
    "    \n",
    "for i in range(1,16):\n",
    "    book = f\"lich-su-viet-nam-tron-bo-15-tap-pdf-tap-{i}.pdf\"\n",
    "    path_to_pdf = './datasets/lich-su-viet-nam/' + book\n",
    "    print(path_to_pdf)"
   ]
  },
  {
   "cell_type": "markdown",
   "metadata": {},
   "source": [
    "# 2. Lưu thành file json"
   ]
  },
  {
   "cell_type": "code",
   "execution_count": 5,
   "metadata": {},
   "outputs": [
    {
     "name": "stdout",
     "output_type": "stream",
     "text": [
      "Transform lich-su-viet-nam-tron-bo-15-tap-pdf-tap-8 book to text :\n",
      "9% 9% 9% 9% 9% 18% 18% 18% 18% 18% 27% 27% 27% 27% 27% 36% 36% 36% 36% 36% 45% 45% 45% 45% 45% 53% 54% 54% 54% 54% 54% 62% 63% 63% 63% 63% 63% 71% 72% 72% 72% 72% 72% 80% 81% 81% 81% 81% 81% 89% 90% 90% 90% 90% 90% Writing data to json file.\n",
      "Transform lich-su-viet-nam-tron-bo-15-tap-pdf-tap-9 book to text :\n",
      "9% 9% 9% 9% 9% 9% 10% 18% 18% 18% 18% 19% 19% 19% 27% 27% 27% 28% 28% 28% 28% 36% 36% 37% 37% 37% 37% 37% 46% 46% 46% 46% 46% 46% 46% 55% 55% 55% 55% 55% 55% 55% 64% 64% 64% 64% 64% 65% 65% 73% 73% 73% 73% 74% 74% 74% 82% 82% 82% 83% 83% 83% 83% 91% 92% 92% 92% 92% 92% 92% Writing data to json file.\n",
      "Transform lich-su-viet-nam-tron-bo-15-tap-pdf-tap-10 book to text :\n",
      "9% 9% 9% 9% 9% 9% 18% 18% 18% 18% 18% 18% 27% 27% 27% 27% 27% 27% 36% 36% 36% 36% 36% 36% 45% 45% 45% 45% 45% 45% 54% 54% 54% 54% 54% 54% 63% 63% 63% 63% 63% 63% 72% 72% 72% 72% 72% 72% 81% 81% 81% 81% 81% 81% 90% 90% 90% 90% 90% 90% Writing data to json file.\n",
      "Transform lich-su-viet-nam-tron-bo-15-tap-pdf-tap-11 book to text :\n",
      "8% 8% 9% 9% 9% 17% 17% 17% 18% 26% 26% 26% 26% 35% 35% 35% 35% 43% 43% 44% 44% 44% 52% 52% 52% 53% 53% 61% 61% 61% 61% 70% 70% 70% 70% 78% 79% 79% 79% 87% 87% 87% 88% 88% Writing data to json file.\n",
      "Transform lich-su-viet-nam-tron-bo-15-tap-pdf-tap-12 book to text :\n",
      "8% 9% 9% 9% 9% 17% 17% 18% 18% 18% 26% 26% 26% 27% 27% 35% 35% 35% 36% 44% 44% 44% 44% 45% 53% 53% 53% 53% 53% 62% 62% 62% 62% 70% 71% 71% 71% 71% 79% 79% 80% 80% 80% 88% 88% 88% 89% 89% Writing data to json file.\n",
      "Transform lich-su-viet-nam-tron-bo-15-tap-pdf-tap-13 book to text :\n",
      "9% 9% 9% 9% 9% 18% 18% 18% 18% 18% 26% 27% 27% 27% 27% 35% 36% 36% 36% 36% 44% 45% 45% 45% 45% 53% 53% 54% 54% 54% 62% 62% 63% 63% 63% 71% 71% 71% 72% 72% 72% 80% 80% 80% 81% 81% 81% 89% 89% 89% 90% 90% 90% Writing data to json file.\n",
      "Transform lich-su-viet-nam-tron-bo-15-tap-pdf-tap-14 book to text :\n",
      "8% 9% 9% 9% 17% 17% 17% 18% 26% 26% 26% 26% 27% 35% 35% 35% 35% 43% 43% 44% 44% 52% 52% 52% 52% 61% 61% 61% 61% 69% 70% 70% 70% 78% 78% 78% 79% 87% 87% 87% 87% 87% Writing data to json file.\n",
      "Transform lich-su-viet-nam-tron-bo-15-tap-pdf-tap-15 book to text :\n",
      "8% 9% 9% 17% 17% 17% 18% 26% 26% 26% 26% 34% 34% 35% 35% 43% 43% 43% 43% 51% 52% 52% 52% 60% 60% 60% 61% 69% 69% 69% 69% 77% 77% 78% 78% 86% 86% 86% 86% Writing data to json file.\n"
     ]
    }
   ],
   "source": [
    "# Save the data to a JSON Lines (JSONL) file\n",
    "for i in range(8,16):\n",
    "    book = f\"lich-su-viet-nam-tron-bo-15-tap-pdf-tap-{i}.pdf\"\n",
    "    path_to_pdf = './datasets/lich-su-viet-nam/' + book\n",
    "    data = get_text_from_any_pdf(path_to_pdf)\n",
    "\n",
    "    with open(\"./datasets/vietnamese_history_v2.jsonl\", \"a\", encoding=\"utf-8\") as jsonl_file:\n",
    "        for entry in data:\n",
    "            jsonl_file.write(json.dumps(entry, ensure_ascii=False) + '\\n')\n",
    "\n",
    "    print(\"\\nWriting data to json file.\")\n",
    "    del data    # Giải phóng RAM"
   ]
  }
 ],
 "metadata": {
  "kernelspec": {
   "display_name": "Python 3",
   "language": "python",
   "name": "python3"
  },
  "language_info": {
   "codemirror_mode": {
    "name": "ipython",
    "version": 3
   },
   "file_extension": ".py",
   "mimetype": "text/x-python",
   "name": "python",
   "nbconvert_exporter": "python",
   "pygments_lexer": "ipython3",
   "version": "3.9.13"
  }
 },
 "nbformat": 4,
 "nbformat_minor": 2
}
